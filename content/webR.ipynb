{
  "metadata": {
    "kernelspec": {
      "name": "webR",
      "display_name": "R (webR)",
      "language": "R"
    },
    "language_info": {
      "name": ""
    }
  },
  "nbformat_minor": 4,
  "nbformat": 4,
  "cells": [
    {
      "cell_type": "code",
      "source": "# data\nn = 100\nx1 = rnorm(n)\nx2 = rnorm(n)\n\n# system\neta = 1 + 2*x1 + 3*x2\n# log link func\ntheta = exp(eta) / ( exp(eta)+1 ) # p bernuli=1\n# random variable\ny = rbinom(n, 1, theta)",
      "metadata": {
        "trusted": true
      },
      "outputs": [],
      "execution_count": null
    },
    {
      "cell_type": "code",
      "source": "fit = glm(y ~ x1 + x2, family = binomial(link='logit'))\nsummary(fit)",
      "metadata": {
        "trusted": true
      },
      "outputs": [
        {
          "name": "stdout",
          "text": "\nCall:\nglm(formula = y ~ x1 + x2, family = binomial(link = \"logit\"))\n\nCoefficients:\n            Estimate Std. Error z value Pr(>|z|)    \n(Intercept)   1.5356     0.4556   3.370 0.000751 ***\nx1            1.8378     0.5414   3.395 0.000687 ***\nx2            3.2495     0.7240   4.488 7.18e-06 ***\n---\nSignif. codes:  0 ‘***’ 0.001 ‘**’ 0.01 ‘*’ 0.05 ‘.’ 0.1 ‘ ’ 1\n\n(Dispersion parameter for binomial family taken to be 1)\n\n    Null deviance: 133.750  on 99  degrees of freedom\nResidual deviance:  58.408  on 97  degrees of freedom\nAIC: 64.408\n\nNumber of Fisher Scoring iterations: 7\n\n",
          "output_type": "stream"
        }
      ],
      "execution_count": null
    },
    {
      "cell_type": "code",
      "source": "",
      "metadata": {
        "trusted": true
      },
      "outputs": [],
      "execution_count": null
    }
  ]
}